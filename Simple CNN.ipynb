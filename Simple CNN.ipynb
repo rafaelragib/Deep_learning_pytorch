{
  "nbformat": 4,
  "nbformat_minor": 0,
  "metadata": {
    "colab": {
      "name": "Neural Network.ipynb",
      "provenance": [],
      "collapsed_sections": []
    },
    "kernelspec": {
      "name": "python3",
      "display_name": "Python 3"
    },
    "widgets": {
      "application/vnd.jupyter.widget-state+json": {
        "075f9413acca403897df021ea62738f7": {
          "model_module": "@jupyter-widgets/controls",
          "model_name": "HBoxModel",
          "state": {
            "_view_name": "HBoxView",
            "_dom_classes": [],
            "_model_name": "HBoxModel",
            "_view_module": "@jupyter-widgets/controls",
            "_model_module_version": "1.5.0",
            "_view_count": null,
            "_view_module_version": "1.5.0",
            "box_style": "",
            "layout": "IPY_MODEL_3e452285931a4b55a1bed1f692e58cde",
            "_model_module": "@jupyter-widgets/controls",
            "children": [
              "IPY_MODEL_63dc2cd1fc884c3ba4d82a2477714b28",
              "IPY_MODEL_ebfea3cc169944c0af16a0cd56c785db"
            ]
          }
        },
        "3e452285931a4b55a1bed1f692e58cde": {
          "model_module": "@jupyter-widgets/base",
          "model_name": "LayoutModel",
          "state": {
            "_view_name": "LayoutView",
            "grid_template_rows": null,
            "right": null,
            "justify_content": null,
            "_view_module": "@jupyter-widgets/base",
            "overflow": null,
            "_model_module_version": "1.2.0",
            "_view_count": null,
            "flex_flow": null,
            "width": null,
            "min_width": null,
            "border": null,
            "align_items": null,
            "bottom": null,
            "_model_module": "@jupyter-widgets/base",
            "top": null,
            "grid_column": null,
            "overflow_y": null,
            "overflow_x": null,
            "grid_auto_flow": null,
            "grid_area": null,
            "grid_template_columns": null,
            "flex": null,
            "_model_name": "LayoutModel",
            "justify_items": null,
            "grid_row": null,
            "max_height": null,
            "align_content": null,
            "visibility": null,
            "align_self": null,
            "height": null,
            "min_height": null,
            "padding": null,
            "grid_auto_rows": null,
            "grid_gap": null,
            "max_width": null,
            "order": null,
            "_view_module_version": "1.2.0",
            "grid_template_areas": null,
            "object_position": null,
            "object_fit": null,
            "grid_auto_columns": null,
            "margin": null,
            "display": null,
            "left": null
          }
        },
        "63dc2cd1fc884c3ba4d82a2477714b28": {
          "model_module": "@jupyter-widgets/controls",
          "model_name": "IntProgressModel",
          "state": {
            "_view_name": "ProgressView",
            "style": "IPY_MODEL_880c4cb852e141c8b61a645ebfaf4420",
            "_dom_classes": [],
            "description": "",
            "_model_name": "IntProgressModel",
            "bar_style": "success",
            "max": 1,
            "_view_module": "@jupyter-widgets/controls",
            "_model_module_version": "1.5.0",
            "value": 1,
            "_view_count": null,
            "_view_module_version": "1.5.0",
            "orientation": "horizontal",
            "min": 0,
            "description_tooltip": null,
            "_model_module": "@jupyter-widgets/controls",
            "layout": "IPY_MODEL_716e2384fd8e46d0a2115f3655f990ec"
          }
        },
        "ebfea3cc169944c0af16a0cd56c785db": {
          "model_module": "@jupyter-widgets/controls",
          "model_name": "HTMLModel",
          "state": {
            "_view_name": "HTMLView",
            "style": "IPY_MODEL_a220a16d0da744bc84c635acff383e9a",
            "_dom_classes": [],
            "description": "",
            "_model_name": "HTMLModel",
            "placeholder": "​",
            "_view_module": "@jupyter-widgets/controls",
            "_model_module_version": "1.5.0",
            "value": " 170500096/? [00:06&lt;00:00, 26167949.38it/s]",
            "_view_count": null,
            "_view_module_version": "1.5.0",
            "description_tooltip": null,
            "_model_module": "@jupyter-widgets/controls",
            "layout": "IPY_MODEL_c22ce13e91264f118301d95dc4dd39a2"
          }
        },
        "880c4cb852e141c8b61a645ebfaf4420": {
          "model_module": "@jupyter-widgets/controls",
          "model_name": "ProgressStyleModel",
          "state": {
            "_view_name": "StyleView",
            "_model_name": "ProgressStyleModel",
            "description_width": "initial",
            "_view_module": "@jupyter-widgets/base",
            "_model_module_version": "1.5.0",
            "_view_count": null,
            "_view_module_version": "1.2.0",
            "bar_color": null,
            "_model_module": "@jupyter-widgets/controls"
          }
        },
        "716e2384fd8e46d0a2115f3655f990ec": {
          "model_module": "@jupyter-widgets/base",
          "model_name": "LayoutModel",
          "state": {
            "_view_name": "LayoutView",
            "grid_template_rows": null,
            "right": null,
            "justify_content": null,
            "_view_module": "@jupyter-widgets/base",
            "overflow": null,
            "_model_module_version": "1.2.0",
            "_view_count": null,
            "flex_flow": null,
            "width": null,
            "min_width": null,
            "border": null,
            "align_items": null,
            "bottom": null,
            "_model_module": "@jupyter-widgets/base",
            "top": null,
            "grid_column": null,
            "overflow_y": null,
            "overflow_x": null,
            "grid_auto_flow": null,
            "grid_area": null,
            "grid_template_columns": null,
            "flex": null,
            "_model_name": "LayoutModel",
            "justify_items": null,
            "grid_row": null,
            "max_height": null,
            "align_content": null,
            "visibility": null,
            "align_self": null,
            "height": null,
            "min_height": null,
            "padding": null,
            "grid_auto_rows": null,
            "grid_gap": null,
            "max_width": null,
            "order": null,
            "_view_module_version": "1.2.0",
            "grid_template_areas": null,
            "object_position": null,
            "object_fit": null,
            "grid_auto_columns": null,
            "margin": null,
            "display": null,
            "left": null
          }
        },
        "a220a16d0da744bc84c635acff383e9a": {
          "model_module": "@jupyter-widgets/controls",
          "model_name": "DescriptionStyleModel",
          "state": {
            "_view_name": "StyleView",
            "_model_name": "DescriptionStyleModel",
            "description_width": "",
            "_view_module": "@jupyter-widgets/base",
            "_model_module_version": "1.5.0",
            "_view_count": null,
            "_view_module_version": "1.2.0",
            "_model_module": "@jupyter-widgets/controls"
          }
        },
        "c22ce13e91264f118301d95dc4dd39a2": {
          "model_module": "@jupyter-widgets/base",
          "model_name": "LayoutModel",
          "state": {
            "_view_name": "LayoutView",
            "grid_template_rows": null,
            "right": null,
            "justify_content": null,
            "_view_module": "@jupyter-widgets/base",
            "overflow": null,
            "_model_module_version": "1.2.0",
            "_view_count": null,
            "flex_flow": null,
            "width": null,
            "min_width": null,
            "border": null,
            "align_items": null,
            "bottom": null,
            "_model_module": "@jupyter-widgets/base",
            "top": null,
            "grid_column": null,
            "overflow_y": null,
            "overflow_x": null,
            "grid_auto_flow": null,
            "grid_area": null,
            "grid_template_columns": null,
            "flex": null,
            "_model_name": "LayoutModel",
            "justify_items": null,
            "grid_row": null,
            "max_height": null,
            "align_content": null,
            "visibility": null,
            "align_self": null,
            "height": null,
            "min_height": null,
            "padding": null,
            "grid_auto_rows": null,
            "grid_gap": null,
            "max_width": null,
            "order": null,
            "_view_module_version": "1.2.0",
            "grid_template_areas": null,
            "object_position": null,
            "object_fit": null,
            "grid_auto_columns": null,
            "margin": null,
            "display": null,
            "left": null
          }
        }
      }
    }
  },
  "cells": [
    {
      "cell_type": "code",
      "metadata": {
        "id": "T92m969flxCM",
        "colab_type": "code",
        "colab": {}
      },
      "source": [
        "import torch\n",
        "import torchvision\n",
        "import torchvision.transforms as transforms"
      ],
      "execution_count": 0,
      "outputs": []
    },
    {
      "cell_type": "code",
      "metadata": {
        "id": "vQrGg7E0FFEl",
        "colab_type": "code",
        "outputId": "384ead70-7e83-43a1-de88-56c2514be342",
        "colab": {
          "base_uri": "https://localhost:8080/",
          "height": 99,
          "referenced_widgets": [
            "075f9413acca403897df021ea62738f7",
            "3e452285931a4b55a1bed1f692e58cde",
            "63dc2cd1fc884c3ba4d82a2477714b28",
            "ebfea3cc169944c0af16a0cd56c785db",
            "880c4cb852e141c8b61a645ebfaf4420",
            "716e2384fd8e46d0a2115f3655f990ec",
            "a220a16d0da744bc84c635acff383e9a",
            "c22ce13e91264f118301d95dc4dd39a2"
          ]
        }
      },
      "source": [
        "transform = transforms.Compose(\n",
        "    [transforms.ToTensor(),\n",
        "     transforms.Normalize((0.5, 0.5, 0.5), (0.5, 0.5, 0.5))])\n",
        "\n",
        "trainset = torchvision.datasets.CIFAR10(root='./data', train=True,\n",
        "                                        download=True, transform=transform)\n",
        "trainloader = torch.utils.data.DataLoader(trainset, batch_size=4,\n",
        "                                          shuffle=True, num_workers=2)\n",
        "\n",
        "testset = torchvision.datasets.CIFAR10(root='./data', train=False,\n",
        "                                       download=True, transform=transform)\n",
        "testloader = torch.utils.data.DataLoader(testset, batch_size=4,\n",
        "                                         shuffle=False, num_workers=2)\n",
        "\n",
        "classes = ('plane', 'car', 'bird', 'cat',\n",
        "           'deer', 'dog', 'frog', 'horse', 'ship', 'truck')"
      ],
      "execution_count": 4,
      "outputs": [
        {
          "output_type": "stream",
          "text": [
            "Downloading https://www.cs.toronto.edu/~kriz/cifar-10-python.tar.gz to ./data/cifar-10-python.tar.gz\n"
          ],
          "name": "stdout"
        },
        {
          "output_type": "display_data",
          "data": {
            "application/vnd.jupyter.widget-view+json": {
              "model_id": "075f9413acca403897df021ea62738f7",
              "version_minor": 0,
              "version_major": 2
            },
            "text/plain": [
              "HBox(children=(IntProgress(value=1, bar_style='info', max=1), HTML(value='')))"
            ]
          },
          "metadata": {
            "tags": []
          }
        },
        {
          "output_type": "stream",
          "text": [
            "Extracting ./data/cifar-10-python.tar.gz to ./data\n",
            "Files already downloaded and verified\n"
          ],
          "name": "stdout"
        }
      ]
    },
    {
      "cell_type": "code",
      "metadata": {
        "id": "B2IbYVTuFIqu",
        "colab_type": "code",
        "outputId": "5483aeeb-2f58-4bae-832f-d2ec969d17fe",
        "colab": {
          "base_uri": "https://localhost:8080/",
          "height": 172
        }
      },
      "source": [
        "import matplotlib.pyplot as plt\n",
        "import numpy as np\n",
        "\n",
        "# functions to show an image\n",
        "\n",
        "\n",
        "def imshow(img):\n",
        "    img = img / 2 + 0.5     # unnormalize\n",
        "    npimg = img.numpy()\n",
        "    plt.imshow(np.transpose(npimg, (1, 2, 0)))\n",
        "    plt.show()\n",
        "\n",
        "\n",
        "# get some random training images\n",
        "dataiter = iter(trainloader)\n",
        "images, labels = dataiter.next()\n",
        "\n",
        "# show images\n",
        "imshow(torchvision.utils.make_grid(images))\n",
        "# print labels\n",
        "print(' '.join('%5s' % classes[labels[j]] for j in range(4)))"
      ],
      "execution_count": 5,
      "outputs": [
        {
          "output_type": "stream",
          "text": [
            "\n"
          ],
          "name": "stdout"
        },
        {
          "output_type": "display_data",
          "data": {
            "image/png": "[encoded data removed]",
            "text/plain": [
              "<Figure size 432x288 with 1 Axes>"
            ]
          },
          "metadata": {
            "tags": []
          }
        },
        {
          "output_type": "stream",
          "text": [
            " frog  bird  deer   car\n"
          ],
          "name": "stdout"
        }
      ]
    },
    {
      "cell_type": "code",
      "metadata": {
        "id": "0Fla52-eUJJm",
        "colab_type": "code",
        "colab": {}
      },
      "source": [
        "import torch.nn as nn\n",
        "import torch.nn.functional as F\n",
        "\n",
        "\n",
        "class Net(nn.Module):\n",
        "    def __init__(self):\n",
        "        super(Net, self).__init__()\n",
        "        self.conv1 = nn.Conv2d(3, 6, 5)\n",
        "        self.pool = nn.MaxPool2d(2, 2)\n",
        "        self.conv2 = nn.Conv2d(6, 16, 5)\n",
        "        self.fc1 = nn.Linear(16 * 5 * 5, 120)\n",
        "        self.fc2 = nn.Linear(120, 84)\n",
        "        self.fc3 = nn.Linear(84, 10)\n",
        "\n",
        "    def forward(self, x):\n",
        "        x = self.pool(F.relu(self.conv1(x)))\n",
        "        x = self.pool(F.relu(self.conv2(x)))\n",
        "        x = x.view(-1, 16 * 5 * 5)  # make it the same shape as output\n",
        "        x = F.relu(self.fc1(x))\n",
        "        x = F.relu(self.fc2(x))\n",
        "        x = self.fc3(x)\n",
        "        return x\n",
        "\n",
        "\n",
        "\n",
        "net = Net()"
      ],
      "execution_count": 0,
      "outputs": []
    },
    {
      "cell_type": "code",
      "metadata": {
        "id": "Nctu8CF-weGX",
        "colab_type": "code",
        "colab": {}
      },
      "source": [
        "import torch.optim as optim\n",
        "\n",
        "criterion = nn.CrossEntropyLoss()\n",
        "optimizer = optim.SGD(net.parameters(), lr=0.001, momentum=0.9)"
      ],
      "execution_count": 0,
      "outputs": []
    },
    {
      "cell_type": "code",
      "metadata": {
        "id": "IAP6a16JyCsy",
        "colab_type": "code",
        "outputId": "ecd4fb09-662b-4558-8ec7-913d1273ed8d",
        "colab": {
          "base_uri": "https://localhost:8080/",
          "height": 1000
        }
      },
      "source": [
        "for epoch in range(20):  # loop over the dataset multiple times\n",
        "\n",
        "    running_loss = 0.0\n",
        "    for i, data in enumerate(trainloader, 0):\n",
        "        # get the inputs; data is a list of [inputs, labels]\n",
        "        inputs, labels = data\n",
        "\n",
        "        # zero the parameter gradients\n",
        "        optimizer.zero_grad()\n",
        "\n",
        "        # forward + backward + optimize\n",
        "        outputs = net(inputs)\n",
        "        loss = criterion(outputs, labels)\n",
        "        loss.backward()\n",
        "        optimizer.step()\n",
        "\n",
        "        # print statistics\n",
        "        running_loss += loss.item()\n",
        "        if i % 2000 == 1999:    # print every 2000 mini-batches\n",
        "            print('[%d, %5d] loss: %.3f' %\n",
        "                  (epoch + 1, i + 1, running_loss / 2000))\n",
        "            running_loss = 0.0\n",
        "\n",
        "print('Finished Training')"
      ],
      "execution_count": 18,
      "outputs": [
        {
          "output_type": "stream",
          "text": [
            "[1,  2000] loss: 1.504\n",
            "[1,  4000] loss: 1.517\n",
            "[1,  6000] loss: 1.514\n",
            "[1,  8000] loss: 1.536\n",
            "[1, 10000] loss: 1.498\n",
            "[1, 12000] loss: 1.508\n",
            "[2,  2000] loss: 1.495\n",
            "[2,  4000] loss: 1.515\n",
            "[2,  6000] loss: 1.519\n",
            "[2,  8000] loss: 1.498\n",
            "[2, 10000] loss: 1.530\n",
            "[2, 12000] loss: 1.525\n",
            "[3,  2000] loss: 1.507\n",
            "[3,  4000] loss: 1.502\n",
            "[3,  6000] loss: 1.512\n",
            "[3,  8000] loss: 1.518\n",
            "[3, 10000] loss: 1.516\n",
            "[3, 12000] loss: 1.521\n",
            "[4,  2000] loss: 1.505\n",
            "[4,  4000] loss: 1.504\n",
            "[4,  6000] loss: 1.530\n",
            "[4,  8000] loss: 1.517\n",
            "[4, 10000] loss: 1.514\n",
            "[4, 12000] loss: 1.509\n",
            "[5,  2000] loss: 1.511\n",
            "[5,  4000] loss: 1.521\n",
            "[5,  6000] loss: 1.515\n",
            "[5,  8000] loss: 1.510\n",
            "[5, 10000] loss: 1.509\n",
            "[5, 12000] loss: 1.510\n",
            "[6,  2000] loss: 1.528\n",
            "[6,  4000] loss: 1.505\n",
            "[6,  6000] loss: 1.512\n",
            "[6,  8000] loss: 1.518\n",
            "[6, 10000] loss: 1.510\n",
            "[6, 12000] loss: 1.508\n",
            "[7,  2000] loss: 1.509\n",
            "[7,  4000] loss: 1.519\n",
            "[7,  6000] loss: 1.505\n",
            "[7,  8000] loss: 1.512\n",
            "[7, 10000] loss: 1.514\n",
            "[7, 12000] loss: 1.514\n",
            "[8,  2000] loss: 1.502\n",
            "[8,  4000] loss: 1.510\n",
            "[8,  6000] loss: 1.517\n",
            "[8,  8000] loss: 1.530\n",
            "[8, 10000] loss: 1.498\n",
            "[8, 12000] loss: 1.523\n",
            "[9,  2000] loss: 1.522\n",
            "[9,  4000] loss: 1.506\n",
            "[9,  6000] loss: 1.515\n",
            "[9,  8000] loss: 1.514\n",
            "[9, 10000] loss: 1.519\n",
            "[9, 12000] loss: 1.506\n",
            "[10,  2000] loss: 1.506\n",
            "[10,  4000] loss: 1.525\n",
            "[10,  6000] loss: 1.512\n",
            "[10,  8000] loss: 1.516\n",
            "[10, 10000] loss: 1.516\n",
            "[10, 12000] loss: 1.509\n",
            "[11,  2000] loss: 1.509\n",
            "[11,  4000] loss: 1.505\n",
            "[11,  6000] loss: 1.505\n",
            "[11,  8000] loss: 1.508\n",
            "[11, 10000] loss: 1.533\n",
            "[11, 12000] loss: 1.519\n",
            "[12,  2000] loss: 1.525\n",
            "[12,  4000] loss: 1.524\n",
            "[12,  6000] loss: 1.501\n",
            "[12,  8000] loss: 1.504\n",
            "[12, 10000] loss: 1.535\n",
            "[12, 12000] loss: 1.497\n",
            "[13,  2000] loss: 1.512\n",
            "[13,  4000] loss: 1.514\n",
            "[13,  6000] loss: 1.501\n",
            "[13,  8000] loss: 1.526\n",
            "[13, 10000] loss: 1.516\n",
            "[13, 12000] loss: 1.509\n",
            "[14,  2000] loss: 1.503\n",
            "[14,  4000] loss: 1.510\n",
            "[14,  6000] loss: 1.513\n",
            "[14,  8000] loss: 1.509\n",
            "[14, 10000] loss: 1.525\n",
            "[14, 12000] loss: 1.509\n",
            "[15,  2000] loss: 1.517\n",
            "[15,  4000] loss: 1.516\n",
            "[15,  6000] loss: 1.510\n",
            "[15,  8000] loss: 1.518\n",
            "[15, 10000] loss: 1.506\n",
            "[15, 12000] loss: 1.505\n",
            "[16,  2000] loss: 1.515\n",
            "[16,  4000] loss: 1.521\n",
            "[16,  6000] loss: 1.499\n",
            "[16,  8000] loss: 1.518\n",
            "[16, 10000] loss: 1.502\n",
            "[16, 12000] loss: 1.523\n",
            "[17,  2000] loss: 1.525\n",
            "[17,  4000] loss: 1.515\n",
            "[17,  6000] loss: 1.499\n",
            "[17,  8000] loss: 1.507\n",
            "[17, 10000] loss: 1.509\n",
            "[17, 12000] loss: 1.524\n",
            "[18,  2000] loss: 1.528\n",
            "[18,  4000] loss: 1.522\n",
            "[18,  6000] loss: 1.497\n",
            "[18,  8000] loss: 1.497\n",
            "[18, 10000] loss: 1.509\n",
            "[18, 12000] loss: 1.521\n",
            "[19,  2000] loss: 1.499\n",
            "[19,  4000] loss: 1.535\n",
            "[19,  6000] loss: 1.510\n",
            "[19,  8000] loss: 1.514\n",
            "[19, 10000] loss: 1.509\n",
            "[19, 12000] loss: 1.510\n",
            "[20,  2000] loss: 1.514\n",
            "[20,  4000] loss: 1.509\n",
            "[20,  6000] loss: 1.517\n",
            "[20,  8000] loss: 1.523\n",
            "[20, 10000] loss: 1.496\n",
            "[20, 12000] loss: 1.522\n",
            "Finished Training\n"
          ],
          "name": "stdout"
        }
      ]
    },
    {
      "cell_type": "code",
      "metadata": {
        "id": "IbUjjKwq0pcc",
        "colab_type": "code",
        "colab": {}
      },
      "source": [
        "PATH = './cifar_net.pth'\n",
        "torch.save(net.state_dict(), PATH)"
      ],
      "execution_count": 0,
      "outputs": []
    },
    {
      "cell_type": "code",
      "metadata": {
        "id": "7fiuY7Xn3IRB",
        "colab_type": "code",
        "outputId": "5267feeb-f903-4279-d78d-c01575ac02cf",
        "colab": {
          "base_uri": "https://localhost:8080/",
          "height": 155
        }
      },
      "source": [
        "dataiter = iter(testloader)\n",
        "images, labels = dataiter.next()\n",
        "\n",
        "# print images\n",
        "imshow(torchvision.utils.make_grid(images))\n",
        "print('GroundTruth: ', ' '.join('%5s' % classes[labels[j]] for j in range(4)))"
      ],
      "execution_count": 20,
      "outputs": [
        {
          "output_type": "display_data",
          "data": {
            "image/png": "[encoded data removed]",
            "text/plain": [
              "<Figure size 432x288 with 1 Axes>"
            ]
          },
          "metadata": {
            "tags": []
          }
        },
        {
          "output_type": "stream",
          "text": [
            "GroundTruth:    cat  ship  ship plane\n"
          ],
          "name": "stdout"
        }
      ]
    },
    {
      "cell_type": "code",
      "metadata": {
        "id": "rZqTSgmy3elA",
        "colab_type": "code",
        "outputId": "30e862c6-653e-419e-bd0c-7a61c839e7a2",
        "colab": {
          "base_uri": "https://localhost:8080/",
          "height": 34
        }
      },
      "source": [
        "net = Net()\n",
        "net.load_state_dict(torch.load(PATH))"
      ],
      "execution_count": 21,
      "outputs": [
        {
          "output_type": "execute_result",
          "data": {
            "text/plain": [
              "<All keys matched successfully>"
            ]
          },
          "metadata": {
            "tags": []
          },
          "execution_count": 21
        }
      ]
    },
    {
      "cell_type": "code",
      "metadata": {
        "id": "ETwBTA4O3l-v",
        "colab_type": "code",
        "colab": {}
      },
      "source": [
        "outputs = net(images)"
      ],
      "execution_count": 0,
      "outputs": []
    },
    {
      "cell_type": "code",
      "metadata": {
        "id": "eMtfcJFi3pN3",
        "colab_type": "code",
        "outputId": "480f23d2-f10f-4d22-8a9f-5db04bbfae6c",
        "colab": {
          "base_uri": "https://localhost:8080/",
          "height": 34
        }
      },
      "source": [
        "_, predicted = torch.max(outputs, 1)\n",
        "\n",
        "print('Predicted: ', ' '.join('%5s' % classes[predicted[j]]\n",
        "                              for j in range(4)))"
      ],
      "execution_count": 23,
      "outputs": [
        {
          "output_type": "stream",
          "text": [
            "Predicted:   frog  ship   car plane\n"
          ],
          "name": "stdout"
        }
      ]
    },
    {
      "cell_type": "code",
      "metadata": {
        "id": "KYt20bj54YfQ",
        "colab_type": "code",
        "outputId": "5bdbd2d7-76a1-4d60-c241-da2b8bacb3d0",
        "colab": {
          "base_uri": "https://localhost:8080/",
          "height": 34
        }
      },
      "source": [
        "correct = 0\n",
        "total = 0\n",
        "with torch.no_grad():\n",
        "    for data in testloader:\n",
        "        images, labels = data\n",
        "        outputs = net(images)\n",
        "        _, predicted = torch.max(outputs.data, 1)\n",
        "        total += labels.size(0)\n",
        "        correct += (predicted == labels).sum().item()\n",
        "\n",
        "print('Accuracy of the network on the 10000 test images: %d %%' % (\n",
        "    100 * correct / total))"
      ],
      "execution_count": 24,
      "outputs": [
        {
          "output_type": "stream",
          "text": [
            "Accuracy of the network on the 10000 test images: 41 %\n"
          ],
          "name": "stdout"
        }
      ]
    },
    {
      "cell_type": "code",
      "metadata": {
        "id": "DZmnIMhT4dkX",
        "colab_type": "code",
        "colab": {}
      },
      "source": [
        ""
      ],
      "execution_count": 0,
      "outputs": []
    }
  ]
}